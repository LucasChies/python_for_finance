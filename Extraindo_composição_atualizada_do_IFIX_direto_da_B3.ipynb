{
 "cells": [
  {
   "cell_type": "markdown",
   "metadata": {},
   "source": [
    "# Importando Libs"
   ]
  },
  {
   "cell_type": "code",
   "execution_count": 1,
   "metadata": {},
   "outputs": [],
   "source": [
    "import pandas as pd\n",
    "import requests\n",
    "from bs4 import BeautifulSoup\n",
    "from selenium import webdriver\n",
    "from selenium.webdriver.common.by import By\n",
    "from selenium.webdriver.support.ui import Select"
   ]
  },
  {
   "cell_type": "markdown",
   "metadata": {},
   "source": [
    "# Executando via Web Crawling"
   ]
  },
  {
   "cell_type": "code",
   "execution_count": 2,
   "metadata": {},
   "outputs": [],
   "source": [
    "driver = webdriver.Chrome()"
   ]
  },
  {
   "cell_type": "code",
   "execution_count": 3,
   "metadata": {},
   "outputs": [],
   "source": [
    "driver.get('https://sistemaswebb3-listados.b3.com.br/indexPage/day/IFIX?language=pt-br')"
   ]
  },
  {
   "cell_type": "markdown",
   "metadata": {},
   "source": [
    "## Identificando o botão de download"
   ]
  },
  {
   "cell_type": "code",
   "execution_count": 4,
   "metadata": {},
   "outputs": [
    {
     "data": {
      "text/plain": [
       "<selenium.webdriver.remote.webelement.WebElement (session=\"79011290a1fa6d556e349f7783e3cf91\", element=\"FD931317E2C07F18101E0FA466E39FA1_element_18\")>"
      ]
     },
     "execution_count": 4,
     "metadata": {},
     "output_type": "execute_result"
    }
   ],
   "source": [
    "driver.find_element(By.XPATH, '//*[@id=\"divContainerIframeB3\"]/div/div[1]/form/div[2]/div/div[2]/div/div/div[1]/div[2]/p/a')"
   ]
  },
  {
   "cell_type": "markdown",
   "metadata": {},
   "source": [
    "## Clicando e fazendo download do arquivo"
   ]
  },
  {
   "cell_type": "code",
   "execution_count": 5,
   "metadata": {},
   "outputs": [
    {
     "data": {
      "text/plain": [
       "<selenium.webdriver.remote.webelement.WebElement (session=\"79011290a1fa6d556e349f7783e3cf91\", element=\"FD931317E2C07F18101E0FA466E39FA1_element_18\")>"
      ]
     },
     "execution_count": 5,
     "metadata": {},
     "output_type": "execute_result"
    }
   ],
   "source": [
    "driver.find_element(By.XPATH, '//*[@id=\"divContainerIframeB3\"]/div/div[1]/form/div[2]/div/div[2]/div/div/div[1]/div[2]/p/a')"
   ]
  },
  {
   "cell_type": "markdown",
   "metadata": {},
   "source": [
    "## Abrindo o arquivo"
   ]
  },
  {
   "cell_type": "code",
   "execution_count": 6,
   "metadata": {},
   "outputs": [],
   "source": [
    "ifix = pd.read_csv(r'C:\\Users\\lucaschies\\Downloads\\IFIXDia_20-11-23.csv', header = 1, encoding='latin-1',decimal = ',' ,sep = ';')"
   ]
  },
  {
   "cell_type": "code",
   "execution_count": 7,
   "metadata": {},
   "outputs": [
    {
     "data": {
      "text/html": [
       "<div>\n",
       "<style scoped>\n",
       "    .dataframe tbody tr th:only-of-type {\n",
       "        vertical-align: middle;\n",
       "    }\n",
       "\n",
       "    .dataframe tbody tr th {\n",
       "        vertical-align: top;\n",
       "    }\n",
       "\n",
       "    .dataframe thead th {\n",
       "        text-align: right;\n",
       "    }\n",
       "</style>\n",
       "<table border=\"1\" class=\"dataframe\">\n",
       "  <thead>\n",
       "    <tr style=\"text-align: right;\">\n",
       "      <th></th>\n",
       "      <th>Código</th>\n",
       "      <th>Ação</th>\n",
       "      <th>Tipo</th>\n",
       "      <th>Qtde. Teórica</th>\n",
       "      <th>Part. (%)</th>\n",
       "    </tr>\n",
       "  </thead>\n",
       "  <tbody>\n",
       "    <tr>\n",
       "      <th>CACR11</th>\n",
       "      <td>CARTESIA FII</td>\n",
       "      <td>CI</td>\n",
       "      <td>3.823.767</td>\n",
       "      <td>0.323</td>\n",
       "      <td>NaN</td>\n",
       "    </tr>\n",
       "    <tr>\n",
       "      <th>BPFF11</th>\n",
       "      <td>FII ABSOLUTO</td>\n",
       "      <td>CI</td>\n",
       "      <td>4.492.326</td>\n",
       "      <td>0.258</td>\n",
       "      <td>NaN</td>\n",
       "    </tr>\n",
       "    <tr>\n",
       "      <th>AFHI11</th>\n",
       "      <td>FII AFHI CRI</td>\n",
       "      <td>CI  ER</td>\n",
       "      <td>3.643.349</td>\n",
       "      <td>0.288</td>\n",
       "      <td>NaN</td>\n",
       "    </tr>\n",
       "    <tr>\n",
       "      <th>ALZR11</th>\n",
       "      <td>FII ALIANZA</td>\n",
       "      <td>CI  ER</td>\n",
       "      <td>9.860.406</td>\n",
       "      <td>0.929</td>\n",
       "      <td>NaN</td>\n",
       "    </tr>\n",
       "    <tr>\n",
       "      <th>RZAT11</th>\n",
       "      <td>FII ARCTIUM</td>\n",
       "      <td>CI  ER</td>\n",
       "      <td>3.708.168</td>\n",
       "      <td>0.268</td>\n",
       "      <td>NaN</td>\n",
       "    </tr>\n",
       "    <tr>\n",
       "      <th>...</th>\n",
       "      <td>...</td>\n",
       "      <td>...</td>\n",
       "      <td>...</td>\n",
       "      <td>...</td>\n",
       "      <td>...</td>\n",
       "    </tr>\n",
       "    <tr>\n",
       "      <th>XPML11</th>\n",
       "      <td>FII XP MALLS</td>\n",
       "      <td>CI  ER</td>\n",
       "      <td>30.822.213</td>\n",
       "      <td>2.871</td>\n",
       "      <td>NaN</td>\n",
       "    </tr>\n",
       "    <tr>\n",
       "      <th>XPPR11</th>\n",
       "      <td>FII XP PROP</td>\n",
       "      <td>CI</td>\n",
       "      <td>7.316.171</td>\n",
       "      <td>0.116</td>\n",
       "      <td>NaN</td>\n",
       "    </tr>\n",
       "    <tr>\n",
       "      <th>XPSF11</th>\n",
       "      <td>FII XP SELEC</td>\n",
       "      <td>CI</td>\n",
       "      <td>43.302.140</td>\n",
       "      <td>0.290</td>\n",
       "      <td>NaN</td>\n",
       "    </tr>\n",
       "    <tr>\n",
       "      <th>Quantidade Teórica Total</th>\n",
       "      <td>NaN</td>\n",
       "      <td>NaN</td>\n",
       "      <td>2.636.267.324</td>\n",
       "      <td>100.000</td>\n",
       "      <td>NaN</td>\n",
       "    </tr>\n",
       "    <tr>\n",
       "      <th>Redutor</th>\n",
       "      <td>NaN</td>\n",
       "      <td>NaN</td>\n",
       "      <td>37.817.595,41431222</td>\n",
       "      <td>NaN</td>\n",
       "      <td>NaN</td>\n",
       "    </tr>\n",
       "  </tbody>\n",
       "</table>\n",
       "<p>111 rows × 5 columns</p>\n",
       "</div>"
      ],
      "text/plain": [
       "                                Código    Ação                 Tipo  \\\n",
       "CACR11                    CARTESIA FII      CI            3.823.767   \n",
       "BPFF11                    FII ABSOLUTO      CI            4.492.326   \n",
       "AFHI11                    FII AFHI CRI  CI  ER            3.643.349   \n",
       "ALZR11                     FII ALIANZA  CI  ER            9.860.406   \n",
       "RZAT11                     FII ARCTIUM  CI  ER            3.708.168   \n",
       "...                                ...     ...                  ...   \n",
       "XPML11                    FII XP MALLS  CI  ER           30.822.213   \n",
       "XPPR11                     FII XP PROP      CI            7.316.171   \n",
       "XPSF11                    FII XP SELEC      CI           43.302.140   \n",
       "Quantidade Teórica Total           NaN     NaN        2.636.267.324   \n",
       "Redutor                            NaN     NaN  37.817.595,41431222   \n",
       "\n",
       "                          Qtde. Teórica  Part. (%)  \n",
       "CACR11                            0.323        NaN  \n",
       "BPFF11                            0.258        NaN  \n",
       "AFHI11                            0.288        NaN  \n",
       "ALZR11                            0.929        NaN  \n",
       "RZAT11                            0.268        NaN  \n",
       "...                                 ...        ...  \n",
       "XPML11                            2.871        NaN  \n",
       "XPPR11                            0.116        NaN  \n",
       "XPSF11                            0.290        NaN  \n",
       "Quantidade Teórica Total        100.000        NaN  \n",
       "Redutor                             NaN        NaN  \n",
       "\n",
       "[111 rows x 5 columns]"
      ]
     },
     "execution_count": 7,
     "metadata": {},
     "output_type": "execute_result"
    }
   ],
   "source": [
    "ifix"
   ]
  },
  {
   "cell_type": "code",
   "execution_count": 8,
   "metadata": {},
   "outputs": [
    {
     "data": {
      "text/plain": [
       "Index(['CACR11', 'BPFF11', 'AFHI11', 'ALZR11', 'RZAT11', 'ARRI11', 'AIEC11',\n",
       "       'BARI11', 'BCFF11', 'BRCR11',\n",
       "       ...\n",
       "       'VILG11', 'VINO11', 'VISC11', 'WHGR11', 'XPCI11', 'XPIN11', 'XPLG11',\n",
       "       'XPML11', 'XPPR11', 'XPSF11'],\n",
       "      dtype='object', length=109)"
      ]
     },
     "execution_count": 8,
     "metadata": {},
     "output_type": "execute_result"
    }
   ],
   "source": [
    "ifix[:-2].index"
   ]
  },
  {
   "cell_type": "code",
   "execution_count": null,
   "metadata": {},
   "outputs": [],
   "source": []
  }
 ],
 "metadata": {
  "kernelspec": {
   "display_name": "Python 3",
   "language": "python",
   "name": "python3"
  },
  "language_info": {
   "codemirror_mode": {
    "name": "ipython",
    "version": 3
   },
   "file_extension": ".py",
   "mimetype": "text/x-python",
   "name": "python",
   "nbconvert_exporter": "python",
   "pygments_lexer": "ipython3",
   "version": "3.12.0"
  }
 },
 "nbformat": 4,
 "nbformat_minor": 2
}
